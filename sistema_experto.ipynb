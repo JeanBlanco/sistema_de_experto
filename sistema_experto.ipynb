{
  "nbformat": 4,
  "nbformat_minor": 0,
  "metadata": {
    "colab": {
      "provenance": []
    },
    "kernelspec": {
      "name": "python3",
      "display_name": "Python 3"
    },
    "language_info": {
      "name": "python"
    },
    "widgets": {
      "application/vnd.jupyter.widget-state+json": {
        "0d75136b99b74bf885e98ac522adb59e": {
          "model_module": "@jupyter-widgets/controls",
          "model_name": "DropdownModel",
          "model_module_version": "1.5.0",
          "state": {
            "_dom_classes": [],
            "_model_module": "@jupyter-widgets/controls",
            "_model_module_version": "1.5.0",
            "_model_name": "DropdownModel",
            "_options_labels": [
              "pop",
              "rock",
              "lofi",
              "electrónica",
              "clásica"
            ],
            "_view_count": null,
            "_view_module": "@jupyter-widgets/controls",
            "_view_module_version": "1.5.0",
            "_view_name": "DropdownView",
            "description": "Género:",
            "description_tooltip": null,
            "disabled": false,
            "index": 0,
            "layout": "IPY_MODEL_aa17639451ba4f2886ef94d2325f4b97",
            "style": "IPY_MODEL_f707fa859d1341b698559cc0e259b3d3"
          }
        },
        "aa17639451ba4f2886ef94d2325f4b97": {
          "model_module": "@jupyter-widgets/base",
          "model_name": "LayoutModel",
          "model_module_version": "1.2.0",
          "state": {
            "_model_module": "@jupyter-widgets/base",
            "_model_module_version": "1.2.0",
            "_model_name": "LayoutModel",
            "_view_count": null,
            "_view_module": "@jupyter-widgets/base",
            "_view_module_version": "1.2.0",
            "_view_name": "LayoutView",
            "align_content": null,
            "align_items": null,
            "align_self": null,
            "border": null,
            "bottom": null,
            "display": null,
            "flex": null,
            "flex_flow": null,
            "grid_area": null,
            "grid_auto_columns": null,
            "grid_auto_flow": null,
            "grid_auto_rows": null,
            "grid_column": null,
            "grid_gap": null,
            "grid_row": null,
            "grid_template_areas": null,
            "grid_template_columns": null,
            "grid_template_rows": null,
            "height": null,
            "justify_content": null,
            "justify_items": null,
            "left": null,
            "margin": null,
            "max_height": null,
            "max_width": null,
            "min_height": null,
            "min_width": null,
            "object_fit": null,
            "object_position": null,
            "order": null,
            "overflow": null,
            "overflow_x": null,
            "overflow_y": null,
            "padding": null,
            "right": null,
            "top": null,
            "visibility": null,
            "width": null
          }
        },
        "f707fa859d1341b698559cc0e259b3d3": {
          "model_module": "@jupyter-widgets/controls",
          "model_name": "DescriptionStyleModel",
          "model_module_version": "1.5.0",
          "state": {
            "_model_module": "@jupyter-widgets/controls",
            "_model_module_version": "1.5.0",
            "_model_name": "DescriptionStyleModel",
            "_view_count": null,
            "_view_module": "@jupyter-widgets/base",
            "_view_module_version": "1.2.0",
            "_view_name": "StyleView",
            "description_width": ""
          }
        },
        "e30d120eba62441ca674f3dc99dd39a7": {
          "model_module": "@jupyter-widgets/controls",
          "model_name": "DropdownModel",
          "model_module_version": "1.5.0",
          "state": {
            "_dom_classes": [],
            "_model_module": "@jupyter-widgets/controls",
            "_model_module_version": "1.5.0",
            "_model_name": "DropdownModel",
            "_options_labels": [
              "feliz",
              "enérgico",
              "relajado",
              "tranquilo"
            ],
            "_view_count": null,
            "_view_module": "@jupyter-widgets/controls",
            "_view_module_version": "1.5.0",
            "_view_name": "DropdownView",
            "description": "Estado:",
            "description_tooltip": null,
            "disabled": false,
            "index": 2,
            "layout": "IPY_MODEL_d2dfaaa7272749199db38eb3d09dca49",
            "style": "IPY_MODEL_913c9758ec6f4c6898a29f8114793c56"
          }
        },
        "d2dfaaa7272749199db38eb3d09dca49": {
          "model_module": "@jupyter-widgets/base",
          "model_name": "LayoutModel",
          "model_module_version": "1.2.0",
          "state": {
            "_model_module": "@jupyter-widgets/base",
            "_model_module_version": "1.2.0",
            "_model_name": "LayoutModel",
            "_view_count": null,
            "_view_module": "@jupyter-widgets/base",
            "_view_module_version": "1.2.0",
            "_view_name": "LayoutView",
            "align_content": null,
            "align_items": null,
            "align_self": null,
            "border": null,
            "bottom": null,
            "display": null,
            "flex": null,
            "flex_flow": null,
            "grid_area": null,
            "grid_auto_columns": null,
            "grid_auto_flow": null,
            "grid_auto_rows": null,
            "grid_column": null,
            "grid_gap": null,
            "grid_row": null,
            "grid_template_areas": null,
            "grid_template_columns": null,
            "grid_template_rows": null,
            "height": null,
            "justify_content": null,
            "justify_items": null,
            "left": null,
            "margin": null,
            "max_height": null,
            "max_width": null,
            "min_height": null,
            "min_width": null,
            "object_fit": null,
            "object_position": null,
            "order": null,
            "overflow": null,
            "overflow_x": null,
            "overflow_y": null,
            "padding": null,
            "right": null,
            "top": null,
            "visibility": null,
            "width": null
          }
        },
        "913c9758ec6f4c6898a29f8114793c56": {
          "model_module": "@jupyter-widgets/controls",
          "model_name": "DescriptionStyleModel",
          "model_module_version": "1.5.0",
          "state": {
            "_model_module": "@jupyter-widgets/controls",
            "_model_module_version": "1.5.0",
            "_model_name": "DescriptionStyleModel",
            "_view_count": null,
            "_view_module": "@jupyter-widgets/base",
            "_view_module_version": "1.2.0",
            "_view_name": "StyleView",
            "description_width": ""
          }
        },
        "8042114f1c3247e783442c6cd004231a": {
          "model_module": "@jupyter-widgets/controls",
          "model_name": "DropdownModel",
          "model_module_version": "1.5.0",
          "state": {
            "_dom_classes": [],
            "_model_module": "@jupyter-widgets/controls",
            "_model_module_version": "1.5.0",
            "_model_name": "DropdownModel",
            "_options_labels": [
              "fiesta",
              "ejercicio",
              "estudio",
              "descanso"
            ],
            "_view_count": null,
            "_view_module": "@jupyter-widgets/controls",
            "_view_module_version": "1.5.0",
            "_view_name": "DropdownView",
            "description": "Actividad:",
            "description_tooltip": null,
            "disabled": false,
            "index": 0,
            "layout": "IPY_MODEL_dc66b4839b4b4673b5b0464e26c10bb5",
            "style": "IPY_MODEL_8be8d3b4bcbe4704963553e92a41499d"
          }
        },
        "dc66b4839b4b4673b5b0464e26c10bb5": {
          "model_module": "@jupyter-widgets/base",
          "model_name": "LayoutModel",
          "model_module_version": "1.2.0",
          "state": {
            "_model_module": "@jupyter-widgets/base",
            "_model_module_version": "1.2.0",
            "_model_name": "LayoutModel",
            "_view_count": null,
            "_view_module": "@jupyter-widgets/base",
            "_view_module_version": "1.2.0",
            "_view_name": "LayoutView",
            "align_content": null,
            "align_items": null,
            "align_self": null,
            "border": null,
            "bottom": null,
            "display": null,
            "flex": null,
            "flex_flow": null,
            "grid_area": null,
            "grid_auto_columns": null,
            "grid_auto_flow": null,
            "grid_auto_rows": null,
            "grid_column": null,
            "grid_gap": null,
            "grid_row": null,
            "grid_template_areas": null,
            "grid_template_columns": null,
            "grid_template_rows": null,
            "height": null,
            "justify_content": null,
            "justify_items": null,
            "left": null,
            "margin": null,
            "max_height": null,
            "max_width": null,
            "min_height": null,
            "min_width": null,
            "object_fit": null,
            "object_position": null,
            "order": null,
            "overflow": null,
            "overflow_x": null,
            "overflow_y": null,
            "padding": null,
            "right": null,
            "top": null,
            "visibility": null,
            "width": null
          }
        },
        "8be8d3b4bcbe4704963553e92a41499d": {
          "model_module": "@jupyter-widgets/controls",
          "model_name": "DescriptionStyleModel",
          "model_module_version": "1.5.0",
          "state": {
            "_model_module": "@jupyter-widgets/controls",
            "_model_module_version": "1.5.0",
            "_model_name": "DescriptionStyleModel",
            "_view_count": null,
            "_view_module": "@jupyter-widgets/base",
            "_view_module_version": "1.2.0",
            "_view_name": "StyleView",
            "description_width": ""
          }
        },
        "abd2fb74f8e04e84b7321f4344b9db85": {
          "model_module": "@jupyter-widgets/controls",
          "model_name": "ButtonModel",
          "model_module_version": "1.5.0",
          "state": {
            "_dom_classes": [],
            "_model_module": "@jupyter-widgets/controls",
            "_model_module_version": "1.5.0",
            "_model_name": "ButtonModel",
            "_view_count": null,
            "_view_module": "@jupyter-widgets/controls",
            "_view_module_version": "1.5.0",
            "_view_name": "ButtonView",
            "button_style": "",
            "description": "Recomendar Música",
            "disabled": false,
            "icon": "",
            "layout": "IPY_MODEL_e725040c4fb24aaa95d841184325af4a",
            "style": "IPY_MODEL_312b627e29394403a9300fe07b41c1e5",
            "tooltip": ""
          }
        },
        "e725040c4fb24aaa95d841184325af4a": {
          "model_module": "@jupyter-widgets/base",
          "model_name": "LayoutModel",
          "model_module_version": "1.2.0",
          "state": {
            "_model_module": "@jupyter-widgets/base",
            "_model_module_version": "1.2.0",
            "_model_name": "LayoutModel",
            "_view_count": null,
            "_view_module": "@jupyter-widgets/base",
            "_view_module_version": "1.2.0",
            "_view_name": "LayoutView",
            "align_content": null,
            "align_items": null,
            "align_self": null,
            "border": null,
            "bottom": null,
            "display": null,
            "flex": null,
            "flex_flow": null,
            "grid_area": null,
            "grid_auto_columns": null,
            "grid_auto_flow": null,
            "grid_auto_rows": null,
            "grid_column": null,
            "grid_gap": null,
            "grid_row": null,
            "grid_template_areas": null,
            "grid_template_columns": null,
            "grid_template_rows": null,
            "height": null,
            "justify_content": null,
            "justify_items": null,
            "left": null,
            "margin": null,
            "max_height": null,
            "max_width": null,
            "min_height": null,
            "min_width": null,
            "object_fit": null,
            "object_position": null,
            "order": null,
            "overflow": null,
            "overflow_x": null,
            "overflow_y": null,
            "padding": null,
            "right": null,
            "top": null,
            "visibility": null,
            "width": null
          }
        },
        "312b627e29394403a9300fe07b41c1e5": {
          "model_module": "@jupyter-widgets/controls",
          "model_name": "ButtonStyleModel",
          "model_module_version": "1.5.0",
          "state": {
            "_model_module": "@jupyter-widgets/controls",
            "_model_module_version": "1.5.0",
            "_model_name": "ButtonStyleModel",
            "_view_count": null,
            "_view_module": "@jupyter-widgets/base",
            "_view_module_version": "1.2.0",
            "_view_name": "StyleView",
            "button_color": null,
            "font_weight": ""
          }
        },
        "ff6658f737464340a4dca92b54a27561": {
          "model_module": "@jupyter-widgets/output",
          "model_name": "OutputModel",
          "model_module_version": "1.0.0",
          "state": {
            "_dom_classes": [],
            "_model_module": "@jupyter-widgets/output",
            "_model_module_version": "1.0.0",
            "_model_name": "OutputModel",
            "_view_count": null,
            "_view_module": "@jupyter-widgets/output",
            "_view_module_version": "1.0.0",
            "_view_name": "OutputView",
            "layout": "IPY_MODEL_a848a081bac24936befd42aa589d7c99",
            "msg_id": "",
            "outputs": [
              {
                "output_type": "stream",
                "name": "stdout",
                "text": [
                  "🎵 Recomendación para pop, relajado, fiesta:\n",
                  "🔥 'Blinding Lights - The Weeknd'\n"
                ]
              }
            ]
          }
        },
        "a848a081bac24936befd42aa589d7c99": {
          "model_module": "@jupyter-widgets/base",
          "model_name": "LayoutModel",
          "model_module_version": "1.2.0",
          "state": {
            "_model_module": "@jupyter-widgets/base",
            "_model_module_version": "1.2.0",
            "_model_name": "LayoutModel",
            "_view_count": null,
            "_view_module": "@jupyter-widgets/base",
            "_view_module_version": "1.2.0",
            "_view_name": "LayoutView",
            "align_content": null,
            "align_items": null,
            "align_self": null,
            "border": null,
            "bottom": null,
            "display": null,
            "flex": null,
            "flex_flow": null,
            "grid_area": null,
            "grid_auto_columns": null,
            "grid_auto_flow": null,
            "grid_auto_rows": null,
            "grid_column": null,
            "grid_gap": null,
            "grid_row": null,
            "grid_template_areas": null,
            "grid_template_columns": null,
            "grid_template_rows": null,
            "height": null,
            "justify_content": null,
            "justify_items": null,
            "left": null,
            "margin": null,
            "max_height": null,
            "max_width": null,
            "min_height": null,
            "min_width": null,
            "object_fit": null,
            "object_position": null,
            "order": null,
            "overflow": null,
            "overflow_x": null,
            "overflow_y": null,
            "padding": null,
            "right": null,
            "top": null,
            "visibility": null,
            "width": null
          }
        }
      }
    }
  },
  "cells": [
    {
      "cell_type": "code",
      "execution_count": 17,
      "metadata": {
        "id": "Iq1rhjtVkgJv",
        "colab": {
          "base_uri": "https://localhost:8080/"
        },
        "outputId": "b0ba17e3-cddb-4738-9a4d-af0f643d97cc"
      },
      "outputs": [
        {
          "output_type": "stream",
          "name": "stdout",
          "text": [
            "Requirement already satisfied: clipspy in /usr/local/lib/python3.11/dist-packages (1.0.5)\n",
            "Requirement already satisfied: cffi>=1.0.0 in /usr/local/lib/python3.11/dist-packages (from clipspy) (1.17.1)\n",
            "Requirement already satisfied: pycparser in /usr/local/lib/python3.11/dist-packages (from cffi>=1.0.0->clipspy) (2.22)\n"
          ]
        }
      ],
      "source": [
        "!pip install clipspy\n"
      ]
    },
    {
      "cell_type": "code",
      "source": [
        "%%writefile musica.clp\n",
        "(deftemplate usuario\n",
        "    (slot genero)\n",
        "    (slot estado_animo)\n",
        "    (slot actividad)\n",
        ")\n",
        "\n",
        "(deffacts base-conocimiento\n",
        "    (recomendacion pop feliz fiesta \"Blinding Lights - The Weeknd\")\n",
        "    (recomendacion rock enérgico ejercicio \"Eye of the Tiger - Survivor\")\n",
        "    (recomendacion lofi relajado estudio \"Lofi Study Beats - Chillhop Music\")\n",
        "    (recomendacion electrónica feliz fiesta \"Titanium - David Guetta\")\n",
        "    (recomendacion clásica tranquilo descanso \"Nocturne Op.9 No.2 - Chopin\")\n",
        ")\n",
        "\n",
        "(defrule recomendar-musica\n",
        "    (usuario (genero ?g) (estado_animo ?e) (actividad ?a))\n",
        "    (recomendacion ?g ?e ?a ?cancion)\n",
        "    =>\n",
        "    (printout t \"🎵 Te recomendamos: \" ?cancion crlf)\n",
        ")\n",
        "\n"
      ],
      "metadata": {
        "colab": {
          "base_uri": "https://localhost:8080/"
        },
        "id": "UUq7yvKVwRRz",
        "outputId": "237c6214-2406-4537-b18f-d14ce496499c"
      },
      "execution_count": 18,
      "outputs": [
        {
          "output_type": "stream",
          "name": "stdout",
          "text": [
            "Overwriting musica.clp\n"
          ]
        }
      ]
    },
    {
      "cell_type": "code",
      "source": [
        "import clips"
      ],
      "metadata": {
        "id": "5Qjy-ocJwV5r"
      },
      "execution_count": 19,
      "outputs": []
    },
    {
      "cell_type": "code",
      "source": [
        "env = clips.Environment()"
      ],
      "metadata": {
        "id": "d5xmj3yhwjhV"
      },
      "execution_count": 20,
      "outputs": []
    },
    {
      "cell_type": "code",
      "source": [
        "def obtener_recomendacion(genero, estado_animo, actividad):\n",
        "\n",
        "    fact = f'(usuario (genero {genero}) (estado_animo {estado_animo}) (actividad {actividad}))'\n",
        "    env.assert_string(fact)\n",
        "\n",
        "\n",
        "    env.run()\n",
        "\n",
        "\n",
        "    for fact in env.facts():\n",
        "        fact_str = str(fact)\n",
        "        if \"recomendacion\" in fact_str:\n",
        "            return fact_str.split()[-1].replace(')', '')\n",
        "\n",
        "    return \"No hay recomendaciones disponibles.\"\n"
      ],
      "metadata": {
        "id": "khAOEkwiwrkd"
      },
      "execution_count": 22,
      "outputs": []
    },
    {
      "cell_type": "code",
      "source": [
        "import ipywidgets as widgets\n",
        "from IPython.display import display"
      ],
      "metadata": {
        "id": "HeBdnZnfyH50"
      },
      "execution_count": 25,
      "outputs": []
    },
    {
      "cell_type": "code",
      "source": [
        "\n",
        "\n",
        "\n",
        "genero = widgets.Dropdown(\n",
        "    options=['pop', 'rock', 'lofi', 'electrónica', 'clásica'],\n",
        "    description='Género:',\n",
        ")\n",
        "\n",
        "estado_animo = widgets.Dropdown(\n",
        "    options=['feliz', 'enérgico', 'relajado', 'tranquilo'],\n",
        "    description='Estado:',\n",
        ")\n",
        "\n",
        "\n",
        "actividad = widgets.Dropdown(\n",
        "    options=['fiesta', 'ejercicio', 'estudio', 'descanso'],\n",
        "    description='Actividad:',\n",
        ")\n",
        "\n",
        "boton = widgets.Button(description=\"Recomendar Música\")\n",
        "output = widgets.Output()\n",
        "\n",
        "def recomendar_musica(b):\n",
        "    with output:\n",
        "        output.clear_output()\n",
        "\n",
        "        print(f\"🎵 Recomendación para {genero.value}, {estado_animo.value}, {actividad.value}:\")\n",
        "        print(\"🔥 'Blinding Lights - The Weeknd'\")\n",
        "\n",
        "boton.on_click(recomendar_musica)\n",
        "\n",
        "\n",
        "display(genero, estado_animo, actividad, boton, output)\n",
        "\n"
      ],
      "metadata": {
        "colab": {
          "base_uri": "https://localhost:8080/",
          "height": 177,
          "referenced_widgets": [
            "0d75136b99b74bf885e98ac522adb59e",
            "aa17639451ba4f2886ef94d2325f4b97",
            "f707fa859d1341b698559cc0e259b3d3",
            "e30d120eba62441ca674f3dc99dd39a7",
            "d2dfaaa7272749199db38eb3d09dca49",
            "913c9758ec6f4c6898a29f8114793c56",
            "8042114f1c3247e783442c6cd004231a",
            "dc66b4839b4b4673b5b0464e26c10bb5",
            "8be8d3b4bcbe4704963553e92a41499d",
            "abd2fb74f8e04e84b7321f4344b9db85",
            "e725040c4fb24aaa95d841184325af4a",
            "312b627e29394403a9300fe07b41c1e5",
            "ff6658f737464340a4dca92b54a27561",
            "a848a081bac24936befd42aa589d7c99"
          ]
        },
        "id": "x7iCIF-zw8SA",
        "outputId": "bab75bc2-14c5-4abe-c1aa-f6f49d102455"
      },
      "execution_count": 26,
      "outputs": [
        {
          "output_type": "display_data",
          "data": {
            "text/plain": [
              "Dropdown(description='Género:', options=('pop', 'rock', 'lofi', 'electrónica', 'clásica'), value='pop')"
            ],
            "application/vnd.jupyter.widget-view+json": {
              "version_major": 2,
              "version_minor": 0,
              "model_id": "0d75136b99b74bf885e98ac522adb59e"
            }
          },
          "metadata": {}
        },
        {
          "output_type": "display_data",
          "data": {
            "text/plain": [
              "Dropdown(description='Estado:', options=('feliz', 'enérgico', 'relajado', 'tranquilo'), value='feliz')"
            ],
            "application/vnd.jupyter.widget-view+json": {
              "version_major": 2,
              "version_minor": 0,
              "model_id": "e30d120eba62441ca674f3dc99dd39a7"
            }
          },
          "metadata": {}
        },
        {
          "output_type": "display_data",
          "data": {
            "text/plain": [
              "Dropdown(description='Actividad:', options=('fiesta', 'ejercicio', 'estudio', 'descanso'), value='fiesta')"
            ],
            "application/vnd.jupyter.widget-view+json": {
              "version_major": 2,
              "version_minor": 0,
              "model_id": "8042114f1c3247e783442c6cd004231a"
            }
          },
          "metadata": {}
        },
        {
          "output_type": "display_data",
          "data": {
            "text/plain": [
              "Button(description='Recomendar Música', style=ButtonStyle())"
            ],
            "application/vnd.jupyter.widget-view+json": {
              "version_major": 2,
              "version_minor": 0,
              "model_id": "abd2fb74f8e04e84b7321f4344b9db85"
            }
          },
          "metadata": {}
        },
        {
          "output_type": "display_data",
          "data": {
            "text/plain": [
              "Output()"
            ],
            "application/vnd.jupyter.widget-view+json": {
              "version_major": 2,
              "version_minor": 0,
              "model_id": "ff6658f737464340a4dca92b54a27561"
            }
          },
          "metadata": {}
        }
      ]
    }
  ]
}