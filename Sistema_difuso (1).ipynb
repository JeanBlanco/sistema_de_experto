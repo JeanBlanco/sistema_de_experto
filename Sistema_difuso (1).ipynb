{
  "nbformat": 4,
  "nbformat_minor": 0,
  "metadata": {
    "colab": {
      "provenance": []
    },
    "kernelspec": {
      "name": "python3",
      "display_name": "Python 3"
    },
    "language_info": {
      "name": "python"
    }
  },
  "cells": [
    {
      "cell_type": "markdown",
      "source": [
        "Descargar dependencias\n"
      ],
      "metadata": {
        "id": "buZrPoHif4Lt"
      }
    },
    {
      "cell_type": "code",
      "source": [
        "\n",
        "!pip install numpy scikit-fuzzy gradio clipspy\n",
        "\n",
        "print(\"ok\")\n"
      ],
      "metadata": {
        "id": "ccfQh7E2c_Jz",
        "colab": {
          "base_uri": "https://localhost:8080/"
        },
        "outputId": "19d8f172-f1c6-4e0a-b2f7-963d9824de37"
      },
      "execution_count": 30,
      "outputs": [
        {
          "output_type": "stream",
          "name": "stdout",
          "text": [
            "Requirement already satisfied: numpy in /usr/local/lib/python3.11/dist-packages (2.0.2)\n",
            "Requirement already satisfied: scikit-fuzzy in /usr/local/lib/python3.11/dist-packages (0.5.0)\n",
            "Requirement already satisfied: gradio in /usr/local/lib/python3.11/dist-packages (5.23.1)\n",
            "Requirement already satisfied: clipspy in /usr/local/lib/python3.11/dist-packages (1.0.5)\n",
            "Requirement already satisfied: aiofiles<24.0,>=22.0 in /usr/local/lib/python3.11/dist-packages (from gradio) (23.2.1)\n",
            "Requirement already satisfied: anyio<5.0,>=3.0 in /usr/local/lib/python3.11/dist-packages (from gradio) (4.9.0)\n",
            "Requirement already satisfied: fastapi<1.0,>=0.115.2 in /usr/local/lib/python3.11/dist-packages (from gradio) (0.115.12)\n",
            "Requirement already satisfied: ffmpy in /usr/local/lib/python3.11/dist-packages (from gradio) (0.5.0)\n",
            "Requirement already satisfied: gradio-client==1.8.0 in /usr/local/lib/python3.11/dist-packages (from gradio) (1.8.0)\n",
            "Requirement already satisfied: groovy~=0.1 in /usr/local/lib/python3.11/dist-packages (from gradio) (0.1.2)\n",
            "Requirement already satisfied: httpx>=0.24.1 in /usr/local/lib/python3.11/dist-packages (from gradio) (0.28.1)\n",
            "Requirement already satisfied: huggingface-hub>=0.28.1 in /usr/local/lib/python3.11/dist-packages (from gradio) (0.29.3)\n",
            "Requirement already satisfied: jinja2<4.0 in /usr/local/lib/python3.11/dist-packages (from gradio) (3.1.6)\n",
            "Requirement already satisfied: markupsafe<4.0,>=2.0 in /usr/local/lib/python3.11/dist-packages (from gradio) (3.0.2)\n",
            "Requirement already satisfied: orjson~=3.0 in /usr/local/lib/python3.11/dist-packages (from gradio) (3.10.15)\n",
            "Requirement already satisfied: packaging in /usr/local/lib/python3.11/dist-packages (from gradio) (24.2)\n",
            "Requirement already satisfied: pandas<3.0,>=1.0 in /usr/local/lib/python3.11/dist-packages (from gradio) (2.2.2)\n",
            "Requirement already satisfied: pillow<12.0,>=8.0 in /usr/local/lib/python3.11/dist-packages (from gradio) (11.1.0)\n",
            "Requirement already satisfied: pydantic>=2.0 in /usr/local/lib/python3.11/dist-packages (from gradio) (2.10.6)\n",
            "Requirement already satisfied: pydub in /usr/local/lib/python3.11/dist-packages (from gradio) (0.25.1)\n",
            "Requirement already satisfied: python-multipart>=0.0.18 in /usr/local/lib/python3.11/dist-packages (from gradio) (0.0.20)\n",
            "Requirement already satisfied: pyyaml<7.0,>=5.0 in /usr/local/lib/python3.11/dist-packages (from gradio) (6.0.2)\n",
            "Requirement already satisfied: ruff>=0.9.3 in /usr/local/lib/python3.11/dist-packages (from gradio) (0.11.2)\n",
            "Requirement already satisfied: safehttpx<0.2.0,>=0.1.6 in /usr/local/lib/python3.11/dist-packages (from gradio) (0.1.6)\n",
            "Requirement already satisfied: semantic-version~=2.0 in /usr/local/lib/python3.11/dist-packages (from gradio) (2.10.0)\n",
            "Requirement already satisfied: starlette<1.0,>=0.40.0 in /usr/local/lib/python3.11/dist-packages (from gradio) (0.46.1)\n",
            "Requirement already satisfied: tomlkit<0.14.0,>=0.12.0 in /usr/local/lib/python3.11/dist-packages (from gradio) (0.13.2)\n",
            "Requirement already satisfied: typer<1.0,>=0.12 in /usr/local/lib/python3.11/dist-packages (from gradio) (0.15.2)\n",
            "Requirement already satisfied: typing-extensions~=4.0 in /usr/local/lib/python3.11/dist-packages (from gradio) (4.12.2)\n",
            "Requirement already satisfied: uvicorn>=0.14.0 in /usr/local/lib/python3.11/dist-packages (from gradio) (0.34.0)\n",
            "Requirement already satisfied: fsspec in /usr/local/lib/python3.11/dist-packages (from gradio-client==1.8.0->gradio) (2025.3.0)\n",
            "Requirement already satisfied: websockets<16.0,>=10.0 in /usr/local/lib/python3.11/dist-packages (from gradio-client==1.8.0->gradio) (15.0.1)\n",
            "Requirement already satisfied: cffi>=1.0.0 in /usr/local/lib/python3.11/dist-packages (from clipspy) (1.17.1)\n",
            "Requirement already satisfied: idna>=2.8 in /usr/local/lib/python3.11/dist-packages (from anyio<5.0,>=3.0->gradio) (3.10)\n",
            "Requirement already satisfied: sniffio>=1.1 in /usr/local/lib/python3.11/dist-packages (from anyio<5.0,>=3.0->gradio) (1.3.1)\n",
            "Requirement already satisfied: pycparser in /usr/local/lib/python3.11/dist-packages (from cffi>=1.0.0->clipspy) (2.22)\n",
            "Requirement already satisfied: certifi in /usr/local/lib/python3.11/dist-packages (from httpx>=0.24.1->gradio) (2025.1.31)\n",
            "Requirement already satisfied: httpcore==1.* in /usr/local/lib/python3.11/dist-packages (from httpx>=0.24.1->gradio) (1.0.7)\n",
            "Requirement already satisfied: h11<0.15,>=0.13 in /usr/local/lib/python3.11/dist-packages (from httpcore==1.*->httpx>=0.24.1->gradio) (0.14.0)\n",
            "Requirement already satisfied: filelock in /usr/local/lib/python3.11/dist-packages (from huggingface-hub>=0.28.1->gradio) (3.18.0)\n",
            "Requirement already satisfied: requests in /usr/local/lib/python3.11/dist-packages (from huggingface-hub>=0.28.1->gradio) (2.32.3)\n",
            "Requirement already satisfied: tqdm>=4.42.1 in /usr/local/lib/python3.11/dist-packages (from huggingface-hub>=0.28.1->gradio) (4.67.1)\n",
            "Requirement already satisfied: python-dateutil>=2.8.2 in /usr/local/lib/python3.11/dist-packages (from pandas<3.0,>=1.0->gradio) (2.8.2)\n",
            "Requirement already satisfied: pytz>=2020.1 in /usr/local/lib/python3.11/dist-packages (from pandas<3.0,>=1.0->gradio) (2025.1)\n",
            "Requirement already satisfied: tzdata>=2022.7 in /usr/local/lib/python3.11/dist-packages (from pandas<3.0,>=1.0->gradio) (2025.1)\n",
            "Requirement already satisfied: annotated-types>=0.6.0 in /usr/local/lib/python3.11/dist-packages (from pydantic>=2.0->gradio) (0.7.0)\n",
            "Requirement already satisfied: pydantic-core==2.27.2 in /usr/local/lib/python3.11/dist-packages (from pydantic>=2.0->gradio) (2.27.2)\n",
            "Requirement already satisfied: click>=8.0.0 in /usr/local/lib/python3.11/dist-packages (from typer<1.0,>=0.12->gradio) (8.1.8)\n",
            "Requirement already satisfied: shellingham>=1.3.0 in /usr/local/lib/python3.11/dist-packages (from typer<1.0,>=0.12->gradio) (1.5.4)\n",
            "Requirement already satisfied: rich>=10.11.0 in /usr/local/lib/python3.11/dist-packages (from typer<1.0,>=0.12->gradio) (13.9.4)\n",
            "Requirement already satisfied: six>=1.5 in /usr/local/lib/python3.11/dist-packages (from python-dateutil>=2.8.2->pandas<3.0,>=1.0->gradio) (1.17.0)\n",
            "Requirement already satisfied: markdown-it-py>=2.2.0 in /usr/local/lib/python3.11/dist-packages (from rich>=10.11.0->typer<1.0,>=0.12->gradio) (3.0.0)\n",
            "Requirement already satisfied: pygments<3.0.0,>=2.13.0 in /usr/local/lib/python3.11/dist-packages (from rich>=10.11.0->typer<1.0,>=0.12->gradio) (2.18.0)\n",
            "Requirement already satisfied: charset-normalizer<4,>=2 in /usr/local/lib/python3.11/dist-packages (from requests->huggingface-hub>=0.28.1->gradio) (3.4.1)\n",
            "Requirement already satisfied: urllib3<3,>=1.21.1 in /usr/local/lib/python3.11/dist-packages (from requests->huggingface-hub>=0.28.1->gradio) (2.3.0)\n",
            "Requirement already satisfied: mdurl~=0.1 in /usr/local/lib/python3.11/dist-packages (from markdown-it-py>=2.2.0->rich>=10.11.0->typer<1.0,>=0.12->gradio) (0.1.2)\n",
            "ok\n"
          ]
        }
      ]
    },
    {
      "cell_type": "markdown",
      "source": [
        "Importar las librerias"
      ],
      "metadata": {
        "id": "b6i6mez2gEUw"
      }
    },
    {
      "cell_type": "code",
      "source": [
        "import numpy as np\n",
        "import skfuzzy as fuzz\n",
        "import skfuzzy.control as ctrl\n",
        "import clips\n",
        "import gradio as gr"
      ],
      "metadata": {
        "id": "uatiHlz-ekE7"
      },
      "execution_count": 31,
      "outputs": []
    },
    {
      "cell_type": "code",
      "source": [
        "edad = ctrl.Antecedent(np.arange(10, 100, 1), 'edad')\n",
        "estado_animo = ctrl.Antecedent(np.arange(0, 11, 1), 'estado_animo')\n",
        "actividad = ctrl.Antecedent(np.arange(0, 11, 1), 'actividad')\n",
        "dia_semana = ctrl.Antecedent(np.arange(0, 7, 1), 'dia_semana')\n",
        "recomendacion = ctrl.Consequent(np.arange(0, 11, 1), 'recomendacion')"
      ],
      "metadata": {
        "id": "ze0DveX_44j_"
      },
      "execution_count": 32,
      "outputs": []
    },
    {
      "cell_type": "code",
      "source": [
        "# Edad (joven, adulto, mayor)\n",
        "edad['joven'] = fuzz.trimf(edad.universe, [10, 18, 30])\n",
        "edad['adulto'] = fuzz.trimf(edad.universe, [25, 40, 60])\n",
        "edad['mayor'] = fuzz.trimf(edad.universe, [50, 70, 100])\n",
        "\n",
        "# Estado de ánimo (bajo, medio, alto)\n",
        "estado_animo['bajo'] = fuzz.trimf(estado_animo.universe, [0, 0, 5])\n",
        "estado_animo['medio'] = fuzz.trimf(estado_animo.universe, [3, 5, 7])\n",
        "estado_animo['alto'] = fuzz.trimf(estado_animo.universe, [5, 10, 10])\n",
        "\n",
        "# Actividad (baja, media, alta)\n",
        "actividad['baja'] = fuzz.trimf(actividad.universe, [0, 0, 5])\n",
        "actividad['media'] = fuzz.trimf(actividad.universe, [3, 5, 7])\n",
        "actividad['alta'] = fuzz.trimf(actividad.universe, [5, 10, 10])\n",
        "\n",
        "# Día de la semana (entre semana, fin de semana)\n",
        "dia_semana['entre_semana'] = fuzz.trimf(dia_semana.universe, [0, 2, 4])\n",
        "dia_semana['fin_de_semana'] = fuzz.trimf(dia_semana.universe, [5, 6, 6])\n",
        "\n",
        "# Recomendación (baja, media, alta)\n",
        "recomendacion['baja'] = fuzz.trimf(recomendacion.universe, [0, 0, 5])\n",
        "recomendacion['media'] = fuzz.trimf(recomendacion.universe, [3, 5, 7])\n",
        "recomendacion['alta'] = fuzz.trimf(recomendacion.universe, [5, 10, 10])"
      ],
      "metadata": {
        "id": "j__GydiJ5EPR"
      },
      "execution_count": 33,
      "outputs": []
    },
    {
      "cell_type": "code",
      "source": [
        "regla1 = ctrl.Rule(estado_animo['bajo'] & actividad['baja'], recomendacion['baja'])\n",
        "regla2 = ctrl.Rule(estado_animo['alto'] | actividad['alta'], recomendacion['alta'])\n",
        "regla3 = ctrl.Rule(edad['mayor'] & estado_animo['medio'], recomendacion['media'])\n",
        "regla4 = ctrl.Rule(dia_semana['fin_de_semana'] & actividad['media'], recomendacion['alta'])"
      ],
      "metadata": {
        "id": "ftELKdxC5Oom"
      },
      "execution_count": 34,
      "outputs": []
    },
    {
      "cell_type": "code",
      "source": [
        "sistema_ctrl = ctrl.ControlSystem([regla1, regla2, regla3, regla4])\n",
        "sistema = ctrl.ControlSystemSimulation(sistema_ctrl)"
      ],
      "metadata": {
        "id": "n8myM7Re96fJ"
      },
      "execution_count": 35,
      "outputs": []
    },
    {
      "cell_type": "code",
      "source": [
        "def obtener_recomendacion(edad_input, estado_animo_input, actividad_input, dia_semana_input):\n",
        "    dias_mapping = {'lunes': 0, 'martes': 1, 'miércoles': 2, 'jueves': 3, 'viernes': 4, 'sábado': 5, 'domingo': 6}\n",
        "\n",
        "    sistema.input['edad'] = edad_input\n",
        "    sistema.input['estado_animo'] = estado_animo_input\n",
        "    sistema.input['actividad'] = actividad_input\n",
        "    sistema.input['dia_semana'] = dias_mapping[dia_semana_input]\n",
        "\n",
        "    sistema.compute()\n",
        "    resultado = sistema.output['recomendacion']\n",
        "    return f\"Nivel de recomendación: {round(resultado, 2)}\"\n",
        "\n",
        "\n"
      ],
      "metadata": {
        "id": "wzUXLed55Tjr"
      },
      "execution_count": 36,
      "outputs": []
    },
    {
      "cell_type": "code",
      "source": [
        "interfaz = gr.Interface(\n",
        "    fn=obtener_recomendacion,\n",
        "    inputs=[\n",
        "        gr.Number(label='Edad', value=25),\n",
        "        gr.Slider(0, 10, label='Estado de Ánimo'),\n",
        "        gr.Slider(0, 10, label='Actividad'),\n",
        "        gr.Dropdown(choices=['lunes', 'martes', 'miércoles', 'jueves', 'viernes', 'sábado', 'domingo'], label='Día de la Semana')\n",
        "    ],\n",
        "    outputs=\"text\"\n",
        ")\n",
        "\n",
        "interfaz.launch()"
      ],
      "metadata": {
        "colab": {
          "base_uri": "https://localhost:8080/",
          "height": 650
        },
        "id": "Yl9Zn4QX5b8n",
        "outputId": "9cb139f8-d66a-4bb9-b0b7-ef1c5ac718a9"
      },
      "execution_count": 37,
      "outputs": [
        {
          "output_type": "stream",
          "name": "stdout",
          "text": [
            "Running Gradio in a Colab notebook requires sharing enabled. Automatically setting `share=True` (you can turn this off by setting `share=False` in `launch()` explicitly).\n",
            "\n",
            "Colab notebook detected. To show errors in colab notebook, set debug=True in launch()\n",
            "* Running on public URL: https://5f770e4c7d343b49ad.gradio.live\n",
            "\n",
            "This share link expires in 72 hours. For free permanent hosting and GPU upgrades, run `gradio deploy` from the terminal in the working directory to deploy to Hugging Face Spaces (https://huggingface.co/spaces)\n"
          ]
        },
        {
          "output_type": "display_data",
          "data": {
            "text/plain": [
              "<IPython.core.display.HTML object>"
            ],
            "text/html": [
              "<div><iframe src=\"https://5f770e4c7d343b49ad.gradio.live\" width=\"100%\" height=\"500\" allow=\"autoplay; camera; microphone; clipboard-read; clipboard-write;\" frameborder=\"0\" allowfullscreen></iframe></div>"
            ]
          },
          "metadata": {}
        },
        {
          "output_type": "execute_result",
          "data": {
            "text/plain": []
          },
          "metadata": {},
          "execution_count": 37
        }
      ]
    }
  ]
}