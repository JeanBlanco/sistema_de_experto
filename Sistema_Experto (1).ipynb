{
  "nbformat": 4,
  "nbformat_minor": 0,
  "metadata": {
    "colab": {
      "provenance": []
    },
    "kernelspec": {
      "name": "python3",
      "display_name": "Python 3"
    },
    "language_info": {
      "name": "python"
    }
  },
  "cells": [
    {
      "cell_type": "markdown",
      "source": [
        "Descargar dependencias\n"
      ],
      "metadata": {
        "id": "buZrPoHif4Lt"
      }
    },
    {
      "cell_type": "code",
      "source": [
        "!apt-get install -y clisp\n",
        "!pip install scikit-fuzzy\n",
        "\n",
        "print(\"ok\")\n"
      ],
      "metadata": {
        "id": "ccfQh7E2c_Jz"
      },
      "execution_count": null,
      "outputs": []
    },
    {
      "cell_type": "markdown",
      "source": [
        "Importar las librerias"
      ],
      "metadata": {
        "id": "b6i6mez2gEUw"
      }
    },
    {
      "cell_type": "code",
      "source": [
        "import clips\n",
        "import numpy as np\n",
        "import skfuzzy as fuzz\n",
        "import skfuzzy.control as ctrl\n",
        "import gradio as gr"
      ],
      "metadata": {
        "id": "uatiHlz-ekE7"
      },
      "execution_count": 42,
      "outputs": []
    },
    {
      "cell_type": "markdown",
      "source": [
        " Definición del Sistema Difuso con scikit-fuzzy\n",
        " - Definimos las variables difusas"
      ],
      "metadata": {
        "id": "Fh6tbggVgXGI"
      }
    },
    {
      "cell_type": "code",
      "source": [
        "edad = ctrl.Antecedent(np.arange(0, 101, 1), 'edad')\n",
        "estado_animo = ctrl.Antecedent(np.arange(0, 11, 1), 'estado_animo')\n",
        "actividad = ctrl.Antecedent(np.arange(0, 11, 1), 'actividad')\n",
        "recomendacion = ctrl.Consequent(np.arange(0, 11, 1), 'recomendacion')\n",
        "dia = ctrl.Antecedent(np.arange(0, 7, 1), 'dia')"
      ],
      "metadata": {
        "id": "O4HRnLjJgQWf"
      },
      "execution_count": 43,
      "outputs": []
    },
    {
      "cell_type": "markdown",
      "source": [
        "Funciones de membresía"
      ],
      "metadata": {
        "id": "Ktqjl2KLlhsV"
      }
    },
    {
      "cell_type": "code",
      "source": [
        "# funciones de membresía para edad\n",
        "edad['joven'] = fuzz.trimf(edad.universe, [0, 15, 30])\n",
        "edad['adulto'] = fuzz.trimf(edad.universe, [25, 40, 60])\n",
        "edad['mayor'] = fuzz.trimf(edad.universe, [50, 70, 100])\n",
        "\n",
        "# funciones de membresía para estado de ánimo\n",
        "estado_animo['triste'] = fuzz.trimf(estado_animo.universe, [0, 2, 4])\n",
        "estado_animo['neutral'] = fuzz.trimf(estado_animo.universe, [3, 5, 7])\n",
        "estado_animo['feliz'] = fuzz.trimf(estado_animo.universe, [6, 8, 10])\n",
        "\n",
        "# funciones de membresía para actividad\n",
        "actividad['baja'] = fuzz.trimf(actividad.universe, [0, 2, 4])\n",
        "actividad['media'] = fuzz.trimf(actividad.universe, [3, 5, 7])\n",
        "actividad['alta'] = fuzz.trimf(actividad.universe, [6, 8, 10])\n",
        "\n",
        "# funciones de membresía para recomendación (Consecuente)\n",
        "recomendacion['mala'] = fuzz.trimf(recomendacion.universe, [0, 2, 4])\n",
        "recomendacion['media'] = fuzz.trimf(recomendacion.universe, [3, 5, 7])\n",
        "recomendacion['buena'] = fuzz.trimf(recomendacion.universe, [6, 8, 10])\n",
        "\n",
        "# funciones de membresia para el dia\n",
        "dia['entre-semana'] = fuzz.trimf(dia.universe, [0, 2, 4])  # Lunes - Jueves\n",
        "dia['viernes'] = fuzz.trimf(dia.universe, [4, 5, 5])  # Viernes\n",
        "dia['fin-de-semana'] = fuzz.trimf(dia.universe, [5, 6, 6])  # Sábado - Domingo\n",
        "\n",
        "\n"
      ],
      "metadata": {
        "id": "5UkxzTDGlaBN"
      },
      "execution_count": 44,
      "outputs": []
    },
    {
      "cell_type": "markdown",
      "source": [
        "Reglas Difusas"
      ],
      "metadata": {
        "id": "xjGX_DbPlqrG"
      }
    },
    {
      "cell_type": "code",
      "source": [
        "rule1 = ctrl.Rule(edad['joven'] & estado_animo['feliz'], recomendacion['buena'])\n",
        "rule2 = ctrl.Rule(edad['adulto'] & actividad['baja'], recomendacion['mala'])\n",
        "rule3 = ctrl.Rule(estado_animo['neutral'] & actividad['media'], recomendacion['media'])\n",
        "rule4 = ctrl.Rule(dia['viernes'] & estado_animo['feliz'], recomendacion['buena'])\n",
        "rule5 = ctrl.Rule(dia['entre-semana'] & actividad['baja'], recomendacion['mala'])\n",
        "rule6 = ctrl.Rule(dia['fin-de-semana'] & estado_animo['neutral'], recomendacion['media'])"
      ],
      "metadata": {
        "id": "daIpDF-ollbV"
      },
      "execution_count": 45,
      "outputs": []
    },
    {
      "cell_type": "markdown",
      "source": [
        "Sistema Difuso"
      ],
      "metadata": {
        "id": "nXwliBLPnvV3"
      }
    },
    {
      "cell_type": "code",
      "source": [
        "sistema_ctrl = ctrl.ControlSystem([rule1, rule2, rule3, rule4, rule5, rule6])\n",
        "sistema = ctrl.ControlSystemSimulation(sistema_ctrl)\n",
        "\n",
        "print(\"✅ Sistema difuso corregido y listo para ejecutar.\")"
      ],
      "metadata": {
        "id": "DECArXgCltfh"
      },
      "execution_count": null,
      "outputs": []
    },
    {
      "cell_type": "markdown",
      "source": [
        "Creación del Archivo CLIPS con las Reglas"
      ],
      "metadata": {
        "id": "WIVgl4sWoeMi"
      }
    },
    {
      "cell_type": "code",
      "source": [
        "with open(\"musica.clp\", \"w\", encoding=\"utf-8\") as f:\n",
        "    f.write('''\n",
        "    (deftemplate usuario\n",
        "      (slot edad-clasificada)\n",
        "      (slot estado-clasificado)\n",
        "      (slot actividad)\n",
        "      (slot hora)\n",
        "      (slot dia))\n",
        "\n",
        "    (deffacts generos-disponibles\n",
        "      (musica rock \"https://spotify.com/rock\" \"https://img.com/rock.jpg\")\n",
        "      (musica pop \"https://spotify.com/pop\" \"https://img.com/pop.jpg\")\n",
        "      (musica jazz \"https://spotify.com/jazz\" \"https://img.com/jazz.jpg\")\n",
        "      (musica electronica \"https://spotify.com/electronic\" \"https://img.com/electronic.jpg\")\n",
        "      (musica indie \"https://spotify.com/indie\" \"https://img.com/indie.jpg\")\n",
        "      (musica reggae \"https://spotify.com/reggae\" \"https://img.com/reggae.jpg\"))\n",
        "    ''')"
      ],
      "metadata": {
        "id": "iMyssRfcnyaR"
      },
      "execution_count": 47,
      "outputs": []
    },
    {
      "cell_type": "markdown",
      "source": [
        "Cargar CLIPS y Ejecutar el Motor de Inferencia"
      ],
      "metadata": {
        "id": "62QSWa1Yosct"
      }
    },
    {
      "cell_type": "code",
      "source": [
        "env = clips.Environment()\n",
        "env.load(\"musica.clp\")\n",
        "env.reset()\n",
        "env.run()"
      ],
      "metadata": {
        "id": "KFW7zu1HopVk"
      },
      "execution_count": null,
      "outputs": []
    },
    {
      "cell_type": "markdown",
      "source": [
        "Desarrollo de la Interfaz Gráfica con Gradio"
      ],
      "metadata": {
        "id": "fJTx9t7Mo5Ne"
      }
    },
    {
      "cell_type": "code",
      "source": [
        "import gradio as gr\n",
        "\n",
        "\n",
        "def recomendar_musica(edad, estado_animo, actividad, dia_texto):\n",
        "    # Convertir el día de texto a número\n",
        "    dias_semana = [\"lunes\", \"martes\", \"miércoles\", \"jueves\", \"viernes\", \"sábado\", \"domingo\"]\n",
        "\n",
        "    try:\n",
        "        dia_numerico = dias_semana.index(dia_texto.lower())  # Convertir texto a número (0-6)\n",
        "    except ValueError:\n",
        "        return \"Error: Ingresa un día válido (Ej: lunes, martes, etc.)\"\n",
        "\n",
        "    # Pasar los valores al sistema difuso\n",
        "    sistema.input['edad'] = edad\n",
        "    sistema.input['estado_animo'] = estado_animo\n",
        "    sistema.input['actividad'] = actividad\n",
        "    sistema.input['dia'] = dia_numerico\n",
        "\n",
        "    sistema.compute()\n",
        "    recomendacion = sistema.output['recomendacion']\n",
        "\n",
        "    return f\"Recomendación Difusa: {recomendacion}\"\n",
        "\n",
        "\n",
        "demo = gr.Interface(\n",
        "    fn=recomendar_musica,\n",
        "    inputs=[\n",
        "        gr.Number(label=\"Edad\"),\n",
        "        gr.Number(label=\"Estado de Ánimo\"),\n",
        "        gr.Number(label=\"Actividad\"),\n",
        "        gr.Textbox(label=\"Día de la Semana\")\n",
        "    ],\n",
        "    outputs=gr.Textbox(label=\"Recomendación\")\n",
        ")\n",
        "\n",
        "\n",
        "demo.launch()\n"
      ],
      "metadata": {
        "id": "u8LbGOUuo1WT"
      },
      "execution_count": null,
      "outputs": []
    }
  ]
}